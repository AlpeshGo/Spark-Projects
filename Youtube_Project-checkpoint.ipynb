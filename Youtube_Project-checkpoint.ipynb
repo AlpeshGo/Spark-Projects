{
 "cells": [
  {
   "cell_type": "code",
   "execution_count": 1,
   "id": "e5830b2b",
   "metadata": {},
   "outputs": [],
   "source": [
    "from pyspark.sql import SparkSession\n",
    "from pyspark import SparkConf"
   ]
  },
  {
   "cell_type": "code",
   "execution_count": 18,
   "id": "d555564b",
   "metadata": {},
   "outputs": [],
   "source": [
    "from pyspark.sql.functions import col"
   ]
  },
  {
   "cell_type": "code",
   "execution_count": 2,
   "id": "8a39d8ad",
   "metadata": {},
   "outputs": [],
   "source": [
    "import os\n",
    "import findspark\n",
    "findspark.find()\n",
    "findspark.init()\n",
    "import pyspark"
   ]
  },
  {
   "cell_type": "code",
   "execution_count": 3,
   "id": "50dc935f",
   "metadata": {},
   "outputs": [],
   "source": [
    "spark = (SparkSession.builder.appName(\"YouTubeAnalytics\").getOrCreate())"
   ]
  },
  {
   "cell_type": "code",
   "execution_count": 4,
   "id": "242b960a",
   "metadata": {},
   "outputs": [],
   "source": [
    "spark.conf.set(\"spark.sql.execution.arrow.enabled\",'true')"
   ]
  },
  {
   "cell_type": "code",
   "execution_count": 13,
   "id": "7568ee93",
   "metadata": {},
   "outputs": [],
   "source": [
    "file_loc = \"D:/YT Project/USvideos.csv\"\n",
    "\n",
    "US_df = (spark.read.format(\"csv\").option(\"header\",\"true\").option(\"inferSchema\",\"true\").load(file_loc))"
   ]
  },
  {
   "cell_type": "code",
   "execution_count": 14,
   "id": "31b65d5a",
   "metadata": {},
   "outputs": [
    {
     "name": "stdout",
     "output_type": "stream",
     "text": [
      "+-----------+-------------+--------------------+--------------------+-----------+-------------------+--------------------+-------+------+--------+-------------+-----------------+----------------+\n",
      "|   video_id|trending_date|               title|       channel_title|category_id|       publish_time|                tags|  views| likes|dislikes|comment_count|comments_disabled|ratings_disabled|\n",
      "+-----------+-------------+--------------------+--------------------+-----------+-------------------+--------------------+-------+------+--------+-------------+-----------------+----------------+\n",
      "|2kyS6SvSYSE|     17.14.11|WE WANT TO TALK A...|        CaseyNeistat|         22|2017-11-13 22:43:01|     SHANtell martin| 748374| 57527|    2966|        15954|            false|           false|\n",
      "|1ZAPwfrtAFY|     17.14.11|The Trump Preside...|     LastWeekTonight|         24|2017-11-13 13:00:00|\"last week tonigh...|2418783| 97185|    6146|        12703|            false|           false|\n",
      "|5qpjK5DgCt4|     17.14.11|Racist Superman |...|        Rudy Mancuso|         23|2017-11-13 00:35:24|\"racist superman|...|3191434|146033|    5339|         8181|            false|           false|\n",
      "|puqaWrEC7tY|     17.14.11|Nickelback Lyrics...|Good Mythical Mor...|         24|2017-11-13 16:30:04|\"rhett and link|\"...| 343168| 10172|     666|         2146|            false|           false|\n",
      "|d380meD0W0M|     17.14.11|I Dare You: GOING...|            nigahiga|         24|2017-11-12 23:31:41|\"ryan|\"\"higa\"\"|\"\"...|2095731|132235|    1989|        17518|            false|           false|\n",
      "+-----------+-------------+--------------------+--------------------+-----------+-------------------+--------------------+-------+------+--------+-------------+-----------------+----------------+\n",
      "only showing top 5 rows\n",
      "\n"
     ]
    }
   ],
   "source": [
    "US_df.show(5)"
   ]
  },
  {
   "cell_type": "code",
   "execution_count": 36,
   "id": "7007942c",
   "metadata": {},
   "outputs": [],
   "source": [
    "file_loc2 = \"D:/YT Project/category_title.csv\"\n",
    "\n",
    "category_df = (spark.read.format(\"csv\").option(\"inferSchema\",\"true\").load(file_loc2))"
   ]
  },
  {
   "cell_type": "code",
   "execution_count": 40,
   "id": "3af17d6c",
   "metadata": {},
   "outputs": [],
   "source": [
    "category_df=category_df.withColumnRenamed(\"_c0\",\"category_id\").withColumnRenamed(\"_c1\",\"category\")"
   ]
  },
  {
   "cell_type": "code",
   "execution_count": 41,
   "id": "4b36087b",
   "metadata": {},
   "outputs": [
    {
     "name": "stdout",
     "output_type": "stream",
     "text": [
      "+-----------+----------------+\n",
      "|category_id|        category|\n",
      "+-----------+----------------+\n",
      "|          1|Film & Animation|\n",
      "|          2|Autos & Vehicles|\n",
      "|         10|           Music|\n",
      "|         15|  Pets & Animals|\n",
      "|         17|          Sports|\n",
      "+-----------+----------------+\n",
      "only showing top 5 rows\n",
      "\n"
     ]
    }
   ],
   "source": [
    "category_df.show(5)"
   ]
  },
  {
   "cell_type": "code",
   "execution_count": 17,
   "id": "6d59114d",
   "metadata": {},
   "outputs": [
    {
     "data": {
      "text/plain": [
       "['video_id',\n",
       " 'trending_date',\n",
       " 'title',\n",
       " 'channel_title',\n",
       " 'category_id',\n",
       " 'publish_time',\n",
       " 'tags',\n",
       " 'views',\n",
       " 'likes',\n",
       " 'dislikes',\n",
       " 'comment_count',\n",
       " 'comments_disabled',\n",
       " 'ratings_disabled']"
      ]
     },
     "execution_count": 17,
     "metadata": {},
     "output_type": "execute_result"
    }
   ],
   "source": [
    "US_df.columns"
   ]
  },
  {
   "cell_type": "markdown",
   "id": "44f30af6",
   "metadata": {},
   "source": [
    "### ●\tTop 3 videos for which user interaction (views + likes + dislikes + comments) is the highest\n"
   ]
  },
  {
   "cell_type": "code",
   "execution_count": 23,
   "id": "6862a940",
   "metadata": {},
   "outputs": [],
   "source": [
    "US_updated=US_df.withColumn(\"Addition\",col(\"views\")+col(\"likes\")+col(\"comment_count\")+col(\"dislikes\")).orderBy(\"Addition\",ascending=False)"
   ]
  },
  {
   "cell_type": "code",
   "execution_count": 28,
   "id": "d62052fc",
   "metadata": {},
   "outputs": [
    {
     "name": "stdout",
     "output_type": "stream",
     "text": [
      "+-----------+-------------+--------------------+-------------------+-----------+-------------------+--------------------+---------+-------+--------+-------------+-----------------+----------------+---------+\n",
      "|   video_id|trending_date|               title|      channel_title|category_id|       publish_time|                tags|    views|  likes|dislikes|comment_count|comments_disabled|ratings_disabled| Addition|\n",
      "+-----------+-------------+--------------------+-------------------+-----------+-------------------+--------------------+---------+-------+--------+-------------+-----------------+----------------+---------+\n",
      "|VYOjWnS4cMY|     18.02.06|Childish Gambino ...|ChildishGambinoVEVO|         10|2018-05-06 09:30:07|\"Childish Gambino...|225211923|5023450|  343541|       517232|            false|           false|231096146|\n",
      "|VYOjWnS4cMY|     18.01.06|Childish Gambino ...|ChildishGambinoVEVO|         10|2018-05-06 09:30:07|\"Childish Gambino...|220490543|4962403|  338105|       512337|            false|           false|226303388|\n",
      "|VYOjWnS4cMY|     18.31.05|Childish Gambino ...|ChildishGambinoVEVO|         10|2018-05-06 09:30:07|\"Childish Gambino...|217750076|4934188|  335462|       509799|            false|           false|223529525|\n",
      "+-----------+-------------+--------------------+-------------------+-----------+-------------------+--------------------+---------+-------+--------+-------------+-----------------+----------------+---------+\n",
      "only showing top 3 rows\n",
      "\n"
     ]
    }
   ],
   "source": [
    "US_updated.show(3)"
   ]
  },
  {
   "cell_type": "markdown",
   "id": "a7edb6b2",
   "metadata": {},
   "source": [
    "### ●\tTop 3 videos for which user interaction (views + likes + dislikes + comments) is the highest\n"
   ]
  },
  {
   "cell_type": "code",
   "execution_count": 31,
   "id": "e1be973c",
   "metadata": {},
   "outputs": [],
   "source": [
    "US_updated_low=US_df.withColumn(\"Addition\",col(\"views\")+col(\"likes\")+col(\"comment_count\")+col(\"dislikes\")).orderBy(\"Addition\",ascending=True)"
   ]
  },
  {
   "cell_type": "code",
   "execution_count": 32,
   "id": "a7e3eb5c",
   "metadata": {},
   "outputs": [
    {
     "name": "stdout",
     "output_type": "stream",
     "text": [
      "+-----------+-------------+--------------------+-------------+-----------+-------------------+--------------------+-----+-----+--------+-------------+-----------------+----------------+--------+\n",
      "|   video_id|trending_date|               title|channel_title|category_id|       publish_time|                tags|views|likes|dislikes|comment_count|comments_disabled|ratings_disabled|Addition|\n",
      "+-----------+-------------+--------------------+-------------+-----------+-------------------+--------------------+-----+-----+--------+-------------+-----------------+----------------+--------+\n",
      "|y6KYFcta4SE|     18.26.01|1 dead, others in...|        Newsy|         25|2018-01-23 21:00:01|\"shooting|\"\"kentu...|  549|    9|       0|            5|            false|           false|     563|\n",
      "|y6KYFcta4SE|     18.27.01|1 dead, others in...|        Newsy|         25|2018-01-23 21:00:01|\"shooting|\"\"kentu...|  554|    9|       0|            4|            false|           false|     567|\n",
      "|y6KYFcta4SE|     18.28.01|1 dead, others in...|        Newsy|         25|2018-01-23 21:00:01|\"shooting|\"\"kentu...|  559|    9|       0|            4|            false|           false|     572|\n",
      "+-----------+-------------+--------------------+-------------+-----------+-------------------+--------------------+-----+-----+--------+-------------+-----------------+----------------+--------+\n",
      "only showing top 3 rows\n",
      "\n"
     ]
    }
   ],
   "source": [
    "US_updated_low.show(3)"
   ]
  },
  {
   "cell_type": "markdown",
   "id": "84804887",
   "metadata": {},
   "source": [
    "### ●\tTop 3 videos of each category in each year"
   ]
  },
  {
   "cell_type": "code",
   "execution_count": 42,
   "id": "c5cf3915",
   "metadata": {},
   "outputs": [],
   "source": [
    "joined_df=US_df.join(category_df)"
   ]
  },
  {
   "cell_type": "code",
   "execution_count": 44,
   "id": "a66f9c52",
   "metadata": {},
   "outputs": [
    {
     "name": "stdout",
     "output_type": "stream",
     "text": [
      "+-----------+-------------+----------------------------------+-------------+-----------+-------------------+---------------+------+-----+--------+-------------+-----------------+----------------+-----------+----------------+\n",
      "|video_id   |trending_date|title                             |channel_title|category_id|publish_time       |tags           |views |likes|dislikes|comment_count|comments_disabled|ratings_disabled|category_id|category        |\n",
      "+-----------+-------------+----------------------------------+-------------+-----------+-------------------+---------------+------+-----+--------+-------------+-----------------+----------------+-----------+----------------+\n",
      "|2kyS6SvSYSE|17.14.11     |WE WANT TO TALK ABOUT OUR MARRIAGE|CaseyNeistat |22         |2017-11-13 22:43:01|SHANtell martin|748374|57527|2966    |15954        |false            |false           |1          |Film & Animation|\n",
      "|2kyS6SvSYSE|17.14.11     |WE WANT TO TALK ABOUT OUR MARRIAGE|CaseyNeistat |22         |2017-11-13 22:43:01|SHANtell martin|748374|57527|2966    |15954        |false            |false           |2          |Autos & Vehicles|\n",
      "|2kyS6SvSYSE|17.14.11     |WE WANT TO TALK ABOUT OUR MARRIAGE|CaseyNeistat |22         |2017-11-13 22:43:01|SHANtell martin|748374|57527|2966    |15954        |false            |false           |10         |Music           |\n",
      "+-----------+-------------+----------------------------------+-------------+-----------+-------------------+---------------+------+-----+--------+-------------+-----------------+----------------+-----------+----------------+\n",
      "only showing top 3 rows\n",
      "\n"
     ]
    }
   ],
   "source": [
    "joined_df.show(3,truncate=False)"
   ]
  },
  {
   "cell_type": "code",
   "execution_count": 88,
   "id": "d3abcfda",
   "metadata": {},
   "outputs": [],
   "source": [
    "joined_df.createGlobalTempView(\"mytable1\")"
   ]
  },
  {
   "cell_type": "code",
   "execution_count": 154,
   "id": "1f85a402",
   "metadata": {},
   "outputs": [
    {
     "name": "stdout",
     "output_type": "stream",
     "text": [
      "+-----------+-------------+--------------------+-------------+-----------+-------------------+---------------+------+-----+--------+-------------+-----------------+----------------+-----------+--------------------+\n",
      "|   video_id|trending_date|               title|channel_title|category_id|       publish_time|           tags| views|likes|dislikes|comment_count|comments_disabled|ratings_disabled|category_id|            category|\n",
      "+-----------+-------------+--------------------+-------------+-----------+-------------------+---------------+------+-----+--------+-------------+-----------------+----------------+-----------+--------------------+\n",
      "|2kyS6SvSYSE|     17.14.11|WE WANT TO TALK A...| CaseyNeistat|         22|2017-11-13 22:43:01|SHANtell martin|748374|57527|    2966|        15954|            false|           false|          1|    Film & Animation|\n",
      "|2kyS6SvSYSE|     17.14.11|WE WANT TO TALK A...| CaseyNeistat|         22|2017-11-13 22:43:01|SHANtell martin|748374|57527|    2966|        15954|            false|           false|          2|    Autos & Vehicles|\n",
      "|2kyS6SvSYSE|     17.14.11|WE WANT TO TALK A...| CaseyNeistat|         22|2017-11-13 22:43:01|SHANtell martin|748374|57527|    2966|        15954|            false|           false|         10|               Music|\n",
      "|2kyS6SvSYSE|     17.14.11|WE WANT TO TALK A...| CaseyNeistat|         22|2017-11-13 22:43:01|SHANtell martin|748374|57527|    2966|        15954|            false|           false|         15|      Pets & Animals|\n",
      "|2kyS6SvSYSE|     17.14.11|WE WANT TO TALK A...| CaseyNeistat|         22|2017-11-13 22:43:01|SHANtell martin|748374|57527|    2966|        15954|            false|           false|         17|              Sports|\n",
      "|2kyS6SvSYSE|     17.14.11|WE WANT TO TALK A...| CaseyNeistat|         22|2017-11-13 22:43:01|SHANtell martin|748374|57527|    2966|        15954|            false|           false|         18|        Short Movies|\n",
      "|2kyS6SvSYSE|     17.14.11|WE WANT TO TALK A...| CaseyNeistat|         22|2017-11-13 22:43:01|SHANtell martin|748374|57527|    2966|        15954|            false|           false|         19|     Travel & Events|\n",
      "|2kyS6SvSYSE|     17.14.11|WE WANT TO TALK A...| CaseyNeistat|         22|2017-11-13 22:43:01|SHANtell martin|748374|57527|    2966|        15954|            false|           false|         20|              Gaming|\n",
      "|2kyS6SvSYSE|     17.14.11|WE WANT TO TALK A...| CaseyNeistat|         22|2017-11-13 22:43:01|SHANtell martin|748374|57527|    2966|        15954|            false|           false|         21|       Videoblogging|\n",
      "|2kyS6SvSYSE|     17.14.11|WE WANT TO TALK A...| CaseyNeistat|         22|2017-11-13 22:43:01|SHANtell martin|748374|57527|    2966|        15954|            false|           false|         22|      People & Blogs|\n",
      "|2kyS6SvSYSE|     17.14.11|WE WANT TO TALK A...| CaseyNeistat|         22|2017-11-13 22:43:01|SHANtell martin|748374|57527|    2966|        15954|            false|           false|         23|              Comedy|\n",
      "|2kyS6SvSYSE|     17.14.11|WE WANT TO TALK A...| CaseyNeistat|         22|2017-11-13 22:43:01|SHANtell martin|748374|57527|    2966|        15954|            false|           false|         24|       Entertainment|\n",
      "|2kyS6SvSYSE|     17.14.11|WE WANT TO TALK A...| CaseyNeistat|         22|2017-11-13 22:43:01|SHANtell martin|748374|57527|    2966|        15954|            false|           false|         25|     News & Politics|\n",
      "|2kyS6SvSYSE|     17.14.11|WE WANT TO TALK A...| CaseyNeistat|         22|2017-11-13 22:43:01|SHANtell martin|748374|57527|    2966|        15954|            false|           false|         26|       Howto & Style|\n",
      "|2kyS6SvSYSE|     17.14.11|WE WANT TO TALK A...| CaseyNeistat|         22|2017-11-13 22:43:01|SHANtell martin|748374|57527|    2966|        15954|            false|           false|         27|           Education|\n",
      "|2kyS6SvSYSE|     17.14.11|WE WANT TO TALK A...| CaseyNeistat|         22|2017-11-13 22:43:01|SHANtell martin|748374|57527|    2966|        15954|            false|           false|         28|Science & Technology|\n",
      "|2kyS6SvSYSE|     17.14.11|WE WANT TO TALK A...| CaseyNeistat|         22|2017-11-13 22:43:01|SHANtell martin|748374|57527|    2966|        15954|            false|           false|         29|Nonprofits & Acti...|\n",
      "|2kyS6SvSYSE|     17.14.11|WE WANT TO TALK A...| CaseyNeistat|         22|2017-11-13 22:43:01|SHANtell martin|748374|57527|    2966|        15954|            false|           false|         30|              Movies|\n",
      "|2kyS6SvSYSE|     17.14.11|WE WANT TO TALK A...| CaseyNeistat|         22|2017-11-13 22:43:01|SHANtell martin|748374|57527|    2966|        15954|            false|           false|         31|     Anime/Animation|\n",
      "|2kyS6SvSYSE|     17.14.11|WE WANT TO TALK A...| CaseyNeistat|         22|2017-11-13 22:43:01|SHANtell martin|748374|57527|    2966|        15954|            false|           false|         32|    Action/Adventure|\n",
      "+-----------+-------------+--------------------+-------------+-----------+-------------------+---------------+------+-----+--------+-------------+-----------------+----------------+-----------+--------------------+\n",
      "only showing top 20 rows\n",
      "\n"
     ]
    }
   ],
   "source": [
    "joined_df.show()"
   ]
  },
  {
   "cell_type": "code",
   "execution_count": null,
   "id": "fc3b7558",
   "metadata": {},
   "outputs": [],
   "source": []
  },
  {
   "cell_type": "code",
   "execution_count": 158,
   "id": "ee9ae87f",
   "metadata": {},
   "outputs": [
    {
     "name": "stdout",
     "output_type": "stream",
     "text": [
      "+-------------+\n",
      "|          seq|\n",
      "+-------------+\n",
      "|3093496644864|\n",
      "+-------------+\n",
      "\n"
     ]
    }
   ],
   "source": [
    "spark.sql(\"select video_id,category,sum(views)as seq from global_temp.mytable1 group by category,video_id\").orderBy(\"seq\",ascending=False).show()"
   ]
  },
  {
   "cell_type": "code",
   "execution_count": 110,
   "id": "4978684d",
   "metadata": {},
   "outputs": [],
   "source": [
    "from pyspark.sql.functions import *"
   ]
  },
  {
   "cell_type": "code",
   "execution_count": 124,
   "id": "e1f639f8",
   "metadata": {},
   "outputs": [
    {
     "name": "stdout",
     "output_type": "stream",
     "text": [
      "+-----------+-----+\n",
      "|   video_id|month|\n",
      "+-----------+-----+\n",
      "|2kyS6SvSYSE|   11|\n",
      "|2kyS6SvSYSE|   11|\n",
      "|2kyS6SvSYSE|   11|\n",
      "|2kyS6SvSYSE|   11|\n",
      "|2kyS6SvSYSE|   11|\n",
      "|2kyS6SvSYSE|   11|\n",
      "|2kyS6SvSYSE|   11|\n",
      "|2kyS6SvSYSE|   11|\n",
      "|2kyS6SvSYSE|   11|\n",
      "|2kyS6SvSYSE|   11|\n",
      "+-----------+-----+\n",
      "only showing top 10 rows\n",
      "\n"
     ]
    }
   ],
   "source": [
    "joined_df.select(\"video_id\",month(to_date(col('publish_time'))).alias('month')).show(10)"
   ]
  },
  {
   "cell_type": "code",
   "execution_count": 337,
   "id": "0524d966",
   "metadata": {},
   "outputs": [
    {
     "name": "stdout",
     "output_type": "stream",
     "text": [
      "+-------------------+\n",
      "|month(publish_time)|\n",
      "+-------------------+\n",
      "|                 12|\n",
      "|                  1|\n",
      "|                  6|\n",
      "|                  3|\n",
      "|                  5|\n",
      "|                  9|\n",
      "|                  4|\n",
      "|                  8|\n",
      "|                  7|\n",
      "|                 10|\n",
      "|                 11|\n",
      "|                  2|\n",
      "+-------------------+\n",
      "\n"
     ]
    }
   ],
   "source": [
    "joined_df.select(month('publish_time')).distinct().show()"
   ]
  },
  {
   "cell_type": "code",
   "execution_count": 140,
   "id": "c08c1124",
   "metadata": {},
   "outputs": [
    {
     "name": "stdout",
     "output_type": "stream",
     "text": [
      "+-------------------+-----+\n",
      "|       publish_time|Likes|\n",
      "+-------------------+-----+\n",
      "|2017-11-09 15:29:31|   32|\n",
      "|2018-01-07 23:30:01|   32|\n",
      "|2018-01-22 09:26:23|   32|\n",
      "|2018-01-28 12:02:21|   32|\n",
      "|2018-01-07 23:30:08|   32|\n",
      "|2017-11-24 01:21:07|   32|\n",
      "|2017-11-09 21:19:21|   32|\n",
      "|2017-11-16 07:30:03|   32|\n",
      "|2017-11-09 02:00:01|   32|\n",
      "|2018-02-23 14:00:00|   32|\n",
      "|2018-06-12 21:19:41|   32|\n",
      "|2018-01-24 15:30:01|   32|\n",
      "|2018-03-27 07:42:53|   32|\n",
      "|2017-11-29 18:30:01|   32|\n",
      "|2018-06-02 00:07:18|   32|\n",
      "|2018-02-24 01:30:04|   32|\n",
      "|2017-11-16 14:05:00|   32|\n",
      "|2017-11-11 00:36:23|   32|\n",
      "|2017-12-01 06:30:58|   32|\n",
      "|2017-11-10 09:38:31|   32|\n",
      "+-------------------+-----+\n",
      "only showing top 20 rows\n",
      "\n"
     ]
    }
   ],
   "source": [
    "month_df=(joined_df.select(\"video_id\",\"publish_time\",\"likes\").groupBy(\"publish_time\")).agg(count(\"likes\").alias(\"Likes\"))\\\n",
    "            .orderBy(\"Likes\").show()"
   ]
  },
  {
   "cell_type": "code",
   "execution_count": 141,
   "id": "962a67d6",
   "metadata": {},
   "outputs": [
    {
     "name": "stdout",
     "output_type": "stream",
     "text": [
      "+-----------+-------------+--------------------+-------------+-----------+-------------------+---------------+------+-----+--------+-------------+-----------------+----------------+-----------+----------------+\n",
      "|   video_id|trending_date|               title|channel_title|category_id|       publish_time|           tags| views|likes|dislikes|comment_count|comments_disabled|ratings_disabled|category_id|        category|\n",
      "+-----------+-------------+--------------------+-------------+-----------+-------------------+---------------+------+-----+--------+-------------+-----------------+----------------+-----------+----------------+\n",
      "|2kyS6SvSYSE|     17.14.11|WE WANT TO TALK A...| CaseyNeistat|         22|2017-11-13 22:43:01|SHANtell martin|748374|57527|    2966|        15954|            false|           false|          1|Film & Animation|\n",
      "|2kyS6SvSYSE|     17.14.11|WE WANT TO TALK A...| CaseyNeistat|         22|2017-11-13 22:43:01|SHANtell martin|748374|57527|    2966|        15954|            false|           false|          2|Autos & Vehicles|\n",
      "|2kyS6SvSYSE|     17.14.11|WE WANT TO TALK A...| CaseyNeistat|         22|2017-11-13 22:43:01|SHANtell martin|748374|57527|    2966|        15954|            false|           false|         10|           Music|\n",
      "|2kyS6SvSYSE|     17.14.11|WE WANT TO TALK A...| CaseyNeistat|         22|2017-11-13 22:43:01|SHANtell martin|748374|57527|    2966|        15954|            false|           false|         15|  Pets & Animals|\n",
      "|2kyS6SvSYSE|     17.14.11|WE WANT TO TALK A...| CaseyNeistat|         22|2017-11-13 22:43:01|SHANtell martin|748374|57527|    2966|        15954|            false|           false|         17|          Sports|\n",
      "+-----------+-------------+--------------------+-------------+-----------+-------------------+---------------+------+-----+--------+-------------+-----------------+----------------+-----------+----------------+\n",
      "only showing top 5 rows\n",
      "\n"
     ]
    }
   ],
   "source": [
    "joined_df.show(5)"
   ]
  },
  {
   "cell_type": "code",
   "execution_count": 167,
   "id": "0daa7abd",
   "metadata": {},
   "outputs": [
    {
     "name": "stdout",
     "output_type": "stream",
     "text": [
      "+-------+-----+\n",
      "|  views|Likes|\n",
      "+-------+-----+\n",
      "|1376133|   32|\n",
      "| 986101|   32|\n",
      "| 297923|   32|\n",
      "|1559003|   32|\n",
      "|  83947|   32|\n",
      "| 582019|   32|\n",
      "|  23706|   32|\n",
      "| 149257|   32|\n",
      "|  31928|   32|\n",
      "|3106800|   32|\n",
      "| 737557|   32|\n",
      "| 423437|   32|\n",
      "|   1896|   32|\n",
      "| 143406|   32|\n",
      "|2134298|   32|\n",
      "| 424563|   32|\n",
      "|2336544|   32|\n",
      "|9568171|   32|\n",
      "|1437447|   32|\n",
      "|  23727|   32|\n",
      "+-------+-----+\n",
      "only showing top 20 rows\n",
      "\n"
     ]
    }
   ],
   "source": [
    "month_df=(joined_df.select(\"video_id\",\"publish_time\",\"views\").groupBy(\"views\")).agg(count(\"views\").alias(\"Likes\"))\\\n",
    "            .orderBy(\"Likes\").show()"
   ]
  },
  {
   "cell_type": "code",
   "execution_count": 211,
   "id": "cc5d4daf",
   "metadata": {},
   "outputs": [
    {
     "name": "stdout",
     "output_type": "stream",
     "text": [
      "+-------------------+-----+\n",
      "|       publish_time|Likes|\n",
      "+-------------------+-----+\n",
      "|2017-11-10 23:32:04|   96|\n",
      "|2017-12-13 23:34:21|  224|\n",
      "|2017-12-22 06:57:19|  160|\n",
      "|2017-11-30 00:23:21|  224|\n",
      "|2017-12-22 14:00:39|  352|\n",
      "|2018-01-08 09:45:26|  192|\n",
      "|2018-01-11 22:30:25|  192|\n",
      "|2018-01-10 03:30:01|  128|\n",
      "|2018-01-10 22:00:03|  160|\n",
      "|2018-01-07 10:14:42|   64|\n",
      "|2018-01-13 20:42:54|  160|\n",
      "|2018-01-17 22:30:13|  256|\n",
      "|2018-01-17 12:45:51|  160|\n",
      "|2018-01-19 22:21:07|  192|\n",
      "|2018-01-17 19:53:32|   96|\n",
      "|2018-01-22 20:30:02|   64|\n",
      "|2018-01-23 06:30:01|  128|\n",
      "|2018-01-26 19:30:05|  224|\n",
      "|2018-02-01 19:53:40|  160|\n",
      "|2018-02-12 23:00:10|  192|\n",
      "+-------------------+-----+\n",
      "only showing top 20 rows\n",
      "\n"
     ]
    }
   ],
   "source": [
    "joined_df.select(\"video_id\",\"publish_time\",\"likes\").groupBy(\"publish_time\").agg(count(\"likes\").alias(\"Likes\"))\\\n",
    "            .show()"
   ]
  },
  {
   "cell_type": "code",
   "execution_count": 182,
   "id": "01ab50be",
   "metadata": {},
   "outputs": [
    {
     "data": {
      "text/plain": [
       "[Row(video_id='2kyS6SvSYSE', likes=57527),\n",
       " Row(video_id='2kyS6SvSYSE', likes=57527),\n",
       " Row(video_id='2kyS6SvSYSE', likes=57527)]"
      ]
     },
     "execution_count": 182,
     "metadata": {},
     "output_type": "execute_result"
    }
   ],
   "source": [
    "joined_df.select(\"video_id\",\"likes\").head(3)"
   ]
  },
  {
   "cell_type": "code",
   "execution_count": 309,
   "id": "73a8fedc",
   "metadata": {},
   "outputs": [
    {
     "name": "stdout",
     "output_type": "stream",
     "text": [
      "+-----------+-------+\n",
      "|   video_id|  likes|\n",
      "+-----------+-------+\n",
      "|7C2z4GqqS5E|5613827|\n",
      "|7C2z4GqqS5E|5595203|\n",
      "|7C2z4GqqS5E|5530568|\n",
      "+-----------+-------+\n",
      "only showing top 3 rows\n",
      "\n"
     ]
    }
   ],
   "source": [
    "joined_df.select(\"video_id\",\"likes\").distinct().union(joined_df.select(\"likes\").groupBy(\"likes\").agg(count(\"likes\").alias(\"Likes\"))\\\n",
    "            .orderBy(\"Likes\")).sort(\"likes\",ascending=False).show(3)"
   ]
  },
  {
   "cell_type": "code",
   "execution_count": 298,
   "id": "ab8a0331",
   "metadata": {},
   "outputs": [
    {
     "ename": "AnalysisException",
     "evalue": "Union can only be performed on tables with the same number of columns, but the first table has 3 columns and the second table has 2 columns;\n'Union false, false\n:- Deduplicate [video_id#100, likes#108, publish_time#105]\n:  +- Project [video_id#100, likes#108, publish_time#105]\n:     +- Join Inner\n:        :- Relation[video_id#100,trending_date#101,title#102,channel_title#103,category_id#104,publish_time#105,tags#106,views#107,likes#108,dislikes#109,comment_count#110,comments_disabled#111,ratings_disabled#112] csv\n:        +- Project [category_id#693, _c1#673 AS category#696]\n:           +- Project [_c0#672 AS category_id#693, _c1#673]\n:              +- Relation[_c0#672,_c1#673] csv\n+- Project [likes#108 AS likes#3889, Likes#3885L AS Likes#3890L]\n   +- Project [likes#108, Likes#3885L]\n      +- Sort [likes#108 ASC NULLS FIRST], true\n         +- Aggregate [likes#108], [likes#108, count(likes#108) AS Likes#3885L]\n            +- Project [likes#108, publish_time#105]\n               +- Join Inner\n                  :- Relation[video_id#100,trending_date#101,title#102,channel_title#103,category_id#104,publish_time#105,tags#106,views#107,likes#108,dislikes#109,comment_count#110,comments_disabled#111,ratings_disabled#112] csv\n                  +- Project [category_id#693, _c1#673 AS category#696]\n                     +- Project [_c0#672 AS category_id#693, _c1#673]\n                        +- Relation[_c0#672,_c1#673] csv\n",
     "output_type": "error",
     "traceback": [
      "\u001b[1;31m---------------------------------------------------------------------------\u001b[0m",
      "\u001b[1;31mAnalysisException\u001b[0m                         Traceback (most recent call last)",
      "\u001b[1;32m<ipython-input-298-eeee28083840>\u001b[0m in \u001b[0;36m<module>\u001b[1;34m\u001b[0m\n\u001b[1;32m----> 1\u001b[1;33m joined_df.select(\"video_id\",\"likes\",\"publish_time\").distinct().union(joined_df.select(\"likes\",\"publish_time\").groupBy(\"likes\").agg(count(\"likes\").alias(\"Likes\"))\\\n\u001b[0m\u001b[0;32m      2\u001b[0m             .orderBy(\"Likes\")).sort(\"likes\",ascending=False).show(3)\n",
      "\u001b[1;32mC:\\ProgramData\\Anaconda3\\lib\\site-packages\\pyspark\\sql\\dataframe.py\u001b[0m in \u001b[0;36munion\u001b[1;34m(self, other)\u001b[0m\n\u001b[0;32m   1826\u001b[0m         \u001b[0mAlso\u001b[0m \u001b[1;32mas\u001b[0m \u001b[0mstandard\u001b[0m \u001b[1;32min\u001b[0m \u001b[0mSQL\u001b[0m\u001b[1;33m,\u001b[0m \u001b[0mthis\u001b[0m \u001b[0mfunction\u001b[0m \u001b[0mresolves\u001b[0m \u001b[0mcolumns\u001b[0m \u001b[0mby\u001b[0m \u001b[0mposition\u001b[0m \u001b[1;33m(\u001b[0m\u001b[1;32mnot\u001b[0m \u001b[0mby\u001b[0m \u001b[0mname\u001b[0m\u001b[1;33m)\u001b[0m\u001b[1;33m.\u001b[0m\u001b[1;33m\u001b[0m\u001b[1;33m\u001b[0m\u001b[0m\n\u001b[0;32m   1827\u001b[0m         \"\"\"\n\u001b[1;32m-> 1828\u001b[1;33m         \u001b[1;32mreturn\u001b[0m \u001b[0mDataFrame\u001b[0m\u001b[1;33m(\u001b[0m\u001b[0mself\u001b[0m\u001b[1;33m.\u001b[0m\u001b[0m_jdf\u001b[0m\u001b[1;33m.\u001b[0m\u001b[0munion\u001b[0m\u001b[1;33m(\u001b[0m\u001b[0mother\u001b[0m\u001b[1;33m.\u001b[0m\u001b[0m_jdf\u001b[0m\u001b[1;33m)\u001b[0m\u001b[1;33m,\u001b[0m \u001b[0mself\u001b[0m\u001b[1;33m.\u001b[0m\u001b[0msql_ctx\u001b[0m\u001b[1;33m)\u001b[0m\u001b[1;33m\u001b[0m\u001b[1;33m\u001b[0m\u001b[0m\n\u001b[0m\u001b[0;32m   1829\u001b[0m \u001b[1;33m\u001b[0m\u001b[0m\n\u001b[0;32m   1830\u001b[0m     \u001b[1;33m@\u001b[0m\u001b[0msince\u001b[0m\u001b[1;33m(\u001b[0m\u001b[1;36m1.3\u001b[0m\u001b[1;33m)\u001b[0m\u001b[1;33m\u001b[0m\u001b[1;33m\u001b[0m\u001b[0m\n",
      "\u001b[1;32mC:\\ProgramData\\Anaconda3\\lib\\site-packages\\py4j\\java_gateway.py\u001b[0m in \u001b[0;36m__call__\u001b[1;34m(self, *args)\u001b[0m\n\u001b[0;32m   1302\u001b[0m \u001b[1;33m\u001b[0m\u001b[0m\n\u001b[0;32m   1303\u001b[0m         \u001b[0manswer\u001b[0m \u001b[1;33m=\u001b[0m \u001b[0mself\u001b[0m\u001b[1;33m.\u001b[0m\u001b[0mgateway_client\u001b[0m\u001b[1;33m.\u001b[0m\u001b[0msend_command\u001b[0m\u001b[1;33m(\u001b[0m\u001b[0mcommand\u001b[0m\u001b[1;33m)\u001b[0m\u001b[1;33m\u001b[0m\u001b[1;33m\u001b[0m\u001b[0m\n\u001b[1;32m-> 1304\u001b[1;33m         return_value = get_return_value(\n\u001b[0m\u001b[0;32m   1305\u001b[0m             answer, self.gateway_client, self.target_id, self.name)\n\u001b[0;32m   1306\u001b[0m \u001b[1;33m\u001b[0m\u001b[0m\n",
      "\u001b[1;32mC:\\ProgramData\\Anaconda3\\lib\\site-packages\\pyspark\\sql\\utils.py\u001b[0m in \u001b[0;36mdeco\u001b[1;34m(*a, **kw)\u001b[0m\n\u001b[0;32m    115\u001b[0m                 \u001b[1;31m# Hide where the exception came from that shows a non-Pythonic\u001b[0m\u001b[1;33m\u001b[0m\u001b[1;33m\u001b[0m\u001b[1;33m\u001b[0m\u001b[0m\n\u001b[0;32m    116\u001b[0m                 \u001b[1;31m# JVM exception message.\u001b[0m\u001b[1;33m\u001b[0m\u001b[1;33m\u001b[0m\u001b[1;33m\u001b[0m\u001b[0m\n\u001b[1;32m--> 117\u001b[1;33m                 \u001b[1;32mraise\u001b[0m \u001b[0mconverted\u001b[0m \u001b[1;32mfrom\u001b[0m \u001b[1;32mNone\u001b[0m\u001b[1;33m\u001b[0m\u001b[1;33m\u001b[0m\u001b[0m\n\u001b[0m\u001b[0;32m    118\u001b[0m             \u001b[1;32melse\u001b[0m\u001b[1;33m:\u001b[0m\u001b[1;33m\u001b[0m\u001b[1;33m\u001b[0m\u001b[0m\n\u001b[0;32m    119\u001b[0m                 \u001b[1;32mraise\u001b[0m\u001b[1;33m\u001b[0m\u001b[1;33m\u001b[0m\u001b[0m\n",
      "\u001b[1;31mAnalysisException\u001b[0m: Union can only be performed on tables with the same number of columns, but the first table has 3 columns and the second table has 2 columns;\n'Union false, false\n:- Deduplicate [video_id#100, likes#108, publish_time#105]\n:  +- Project [video_id#100, likes#108, publish_time#105]\n:     +- Join Inner\n:        :- Relation[video_id#100,trending_date#101,title#102,channel_title#103,category_id#104,publish_time#105,tags#106,views#107,likes#108,dislikes#109,comment_count#110,comments_disabled#111,ratings_disabled#112] csv\n:        +- Project [category_id#693, _c1#673 AS category#696]\n:           +- Project [_c0#672 AS category_id#693, _c1#673]\n:              +- Relation[_c0#672,_c1#673] csv\n+- Project [likes#108 AS likes#3889, Likes#3885L AS Likes#3890L]\n   +- Project [likes#108, Likes#3885L]\n      +- Sort [likes#108 ASC NULLS FIRST], true\n         +- Aggregate [likes#108], [likes#108, count(likes#108) AS Likes#3885L]\n            +- Project [likes#108, publish_time#105]\n               +- Join Inner\n                  :- Relation[video_id#100,trending_date#101,title#102,channel_title#103,category_id#104,publish_time#105,tags#106,views#107,likes#108,dislikes#109,comment_count#110,comments_disabled#111,ratings_disabled#112] csv\n                  +- Project [category_id#693, _c1#673 AS category#696]\n                     +- Project [_c0#672 AS category_id#693, _c1#673]\n                        +- Relation[_c0#672,_c1#673] csv\n"
     ]
    }
   ],
   "source": [
    "joined_df.select(\"video_id\",\"likes\",\"publish_time\").distinct().union(joined_df.select(\"likes\").groupBy(\"likes\").agg(count(\"likes\").alias(\"Likes\"))\\\n",
    "            .orderBy(\"Likes\")).sort(\"likes\",ascending=False).show(3)"
   ]
  },
  {
   "cell_type": "code",
   "execution_count": 321,
   "id": "d3d72a40",
   "metadata": {},
   "outputs": [
    {
     "name": "stdout",
     "output_type": "stream",
     "text": [
      "+---------+-----+\n",
      "|    likes|Likes|\n",
      "+---------+-----+\n",
      "|225211923|   32|\n",
      "|220490543|   32|\n",
      "|217750076|   32|\n",
      "|210338856|   32|\n",
      "|205643016|   32|\n",
      "|200820941|   32|\n",
      "|196222618|   32|\n",
      "|190950401|   32|\n",
      "|184446490|   32|\n",
      "|179045286|   32|\n",
      "|173478072|   32|\n",
      "|167997997|   32|\n",
      "|162556776|   32|\n",
      "|156612892|   32|\n",
      "|149830680|   32|\n",
      "|149376127|   32|\n",
      "|148689896|   32|\n",
      "|142421830|   32|\n",
      "|139334502|   32|\n",
      "|137843120|   32|\n",
      "+---------+-----+\n",
      "only showing top 20 rows\n",
      "\n"
     ]
    }
   ],
   "source": [
    "joined_df.select(\"video_id\",\"likes\",\"views\").union(joined_df.select(\"likes\",\"views\",month('publish_time')).alias('month')).groupBy(\"likes\").agg(count(\"likes\").alias(\"Likes\"))\\\n",
    "                                                                                      .orderBy(\"Likes\").sort(\"likes\",ascending=False).show()"
   ]
  },
  {
   "cell_type": "markdown",
   "id": "7609abe8",
   "metadata": {},
   "source": [
    "## Answer"
   ]
  },
  {
   "cell_type": "code",
   "execution_count": 343,
   "id": "48b659c6",
   "metadata": {},
   "outputs": [
    {
     "name": "stdout",
     "output_type": "stream",
     "text": [
      "+-------------------+-------+-----------+\n",
      "|month(publish_time)|  likes|   video_id|\n",
      "+-------------------+-------+-----------+\n",
      "|                  5|5613827|7C2z4GqqS5E|\n",
      "|                  5|5595203|7C2z4GqqS5E|\n",
      "|                  5|5530568|7C2z4GqqS5E|\n",
      "|                  5|5486349|7C2z4GqqS5E|\n",
      "|                  5|5439015|7C2z4GqqS5E|\n",
      "|                  5|5386959|7C2z4GqqS5E|\n",
      "|                  5|5321402|7C2z4GqqS5E|\n",
      "|                  5|5232318|7C2z4GqqS5E|\n",
      "|                  5|5150831|7C2z4GqqS5E|\n",
      "|                  5|5053329|7C2z4GqqS5E|\n",
      "|                  5|5023450|VYOjWnS4cMY|\n",
      "|                  5|4962403|VYOjWnS4cMY|\n",
      "|                  5|4934188|VYOjWnS4cMY|\n",
      "|                  5|4924045|7C2z4GqqS5E|\n",
      "|                  5|4836448|VYOjWnS4cMY|\n",
      "|                  5|4776680|VYOjWnS4cMY|\n",
      "|                  5|4750245|7C2z4GqqS5E|\n",
      "|                  5|4714942|VYOjWnS4cMY|\n",
      "|                  5|4656929|VYOjWnS4cMY|\n",
      "|                  5|4594931|VYOjWnS4cMY|\n",
      "+-------------------+-------+-----------+\n",
      "only showing top 20 rows\n",
      "\n"
     ]
    }
   ],
   "source": [
    "joined_df.distinct().select(month('publish_time'),\"likes\",\"video_id\").distinct().sort(\"likes\",ascending=False).show()"
   ]
  },
  {
   "cell_type": "code",
   "execution_count": 351,
   "id": "8bf4f9ed",
   "metadata": {},
   "outputs": [],
   "source": [
    "ss =joined_df.distinct().count()"
   ]
  },
  {
   "cell_type": "code",
   "execution_count": 353,
   "id": "7f1bb9c3",
   "metadata": {},
   "outputs": [
    {
     "data": {
      "text/plain": [
       "1308832"
      ]
     },
     "execution_count": 353,
     "metadata": {},
     "output_type": "execute_result"
    }
   ],
   "source": []
  },
  {
   "cell_type": "code",
   "execution_count": 282,
   "id": "d51d786b",
   "metadata": {},
   "outputs": [
    {
     "data": {
      "text/plain": [
       "448"
      ]
     },
     "execution_count": 282,
     "metadata": {},
     "output_type": "execute_result"
    }
   ],
   "source": [
    "spark.sql(\"select video_id from global_temp.mytable1 where video_id='7C2z4GqqS5E'\").count()"
   ]
  },
  {
   "cell_type": "code",
   "execution_count": 246,
   "id": "249d06f5",
   "metadata": {},
   "outputs": [
    {
     "name": "stdout",
     "output_type": "stream",
     "text": [
      "+-------+------+\n",
      "|  views|panda1|\n",
      "+-------+------+\n",
      "|  28124|     1|\n",
      "|9915822|     1|\n",
      "| 171642|     1|\n",
      "+-------+------+\n",
      "only showing top 3 rows\n",
      "\n"
     ]
    }
   ],
   "source": [
    "joined_df.select(\"likes\",\"views\").distinct().groupBy(\"views\").agg(count(\"views\").alias(\"panda1\")).show(3)"
   ]
  },
  {
   "cell_type": "code",
   "execution_count": 239,
   "id": "f9fcd833",
   "metadata": {},
   "outputs": [
    {
     "name": "stdout",
     "output_type": "stream",
     "text": [
      "+-----------+-------------------+-------+\n",
      "|   video_id|       publish_time|  likes|\n",
      "+-----------+-------------------+-------+\n",
      "|7C2z4GqqS5E|2018-05-18 14:30:02|5613827|\n",
      "+-----------+-------------------+-------+\n",
      "\n"
     ]
    }
   ],
   "source": [
    "spark.sql(\"select video_id,publish_time,likes from global_temp.mytable1 order by likes desc limit 3\").distinct().show(3)"
   ]
  },
  {
   "cell_type": "code",
   "execution_count": 189,
   "id": "77cea782",
   "metadata": {},
   "outputs": [
    {
     "name": "stdout",
     "output_type": "stream",
     "text": [
      "+-----------+-------------+--------------------+-------------+-----------+-------------------+--------------------+-----+-----+--------+-------------+-----------------+----------------+--------+\n",
      "|   video_id|trending_date|               title|channel_title|category_id|       publish_time|                tags|views|likes|dislikes|comment_count|comments_disabled|ratings_disabled|Addition|\n",
      "+-----------+-------------+--------------------+-------------+-----------+-------------------+--------------------+-----+-----+--------+-------------+-----------------+----------------+--------+\n",
      "|y6KYFcta4SE|     18.26.01|1 dead, others in...|        Newsy|         25|2018-01-23 21:00:01|\"shooting|\"\"kentu...|  549|    9|       0|            5|            false|           false|     563|\n",
      "|y6KYFcta4SE|     18.27.01|1 dead, others in...|        Newsy|         25|2018-01-23 21:00:01|\"shooting|\"\"kentu...|  554|    9|       0|            4|            false|           false|     567|\n",
      "|y6KYFcta4SE|     18.28.01|1 dead, others in...|        Newsy|         25|2018-01-23 21:00:01|\"shooting|\"\"kentu...|  559|    9|       0|            4|            false|           false|     572|\n",
      "+-----------+-------------+--------------------+-------------+-----------+-------------------+--------------------+-----+-----+--------+-------------+-----------------+----------------+--------+\n",
      "only showing top 3 rows\n",
      "\n"
     ]
    }
   ],
   "source": [
    "US_updated.show(3)"
   ]
  },
  {
   "cell_type": "code",
   "execution_count": 194,
   "id": "83da3ed3",
   "metadata": {},
   "outputs": [],
   "source": [
    "ss=joined_df.distinct()"
   ]
  },
  {
   "cell_type": "code",
   "execution_count": 196,
   "id": "c52a5e7e",
   "metadata": {},
   "outputs": [
    {
     "name": "stdout",
     "output_type": "stream",
     "text": [
      "+--------+\n",
      "|video_id|\n",
      "+--------+\n",
      "|  #NAME?|\n",
      "|  #NAME?|\n",
      "|  #NAME?|\n",
      "+--------+\n",
      "only showing top 3 rows\n",
      "\n"
     ]
    }
   ],
   "source": [
    "ss[[\"video_id\"]].show(3)"
   ]
  },
  {
   "cell_type": "code",
   "execution_count": null,
   "id": "442267c4",
   "metadata": {},
   "outputs": [],
   "source": []
  }
 ],
 "metadata": {
  "kernelspec": {
   "display_name": "Python 3",
   "language": "python",
   "name": "python3"
  },
  "language_info": {
   "codemirror_mode": {
    "name": "ipython",
    "version": 3
   },
   "file_extension": ".py",
   "mimetype": "text/x-python",
   "name": "python",
   "nbconvert_exporter": "python",
   "pygments_lexer": "ipython3",
   "version": "3.8.8"
  }
 },
 "nbformat": 4,
 "nbformat_minor": 5
}
